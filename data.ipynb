{
 "cells": [
  {
   "cell_type": "code",
   "execution_count": 69,
   "metadata": {},
   "outputs": [],
   "source": [
    "from nilearn import datasets, plotting\n",
    "from nilearn.maskers import NiftiMapsMasker\n",
    "import numpy as np\n",
    "from tqdm import tqdm"
   ]
  },
  {
   "cell_type": "code",
   "execution_count": 53,
   "metadata": {},
   "outputs": [],
   "source": [
    "development_dataset = datasets.fetch_development_fmri()"
   ]
  },
  {
   "cell_type": "code",
   "execution_count": 68,
   "metadata": {},
   "outputs": [],
   "source": [
    "aal_data = datasets.fetch_atlas_msdl()\n",
    "\n",
    "masker = NiftiMapsMasker(\n",
    "    aal_data.maps,\n",
    "    resampling_target=\"data\",\n",
    "    t_r=2,\n",
    "    detrend=True,\n",
    "    low_pass=0.1,\n",
    "    high_pass=0.01,\n",
    "    memory=\"nilearn_cache\",\n",
    "    memory_level=1,\n",
    "    standardize=\"zscore_sample\",\n",
    "    standardize_confounds=\"zscore_sample\",\n",
    ").fit()\n"
   ]
  },
  {
   "cell_type": "code",
   "execution_count": 70,
   "metadata": {},
   "outputs": [
    {
     "name": "stderr",
     "output_type": "stream",
     "text": [
      "155it [05:16,  2.04s/it]\n"
     ]
    }
   ],
   "source": [
    "pooled_subjects = []\n",
    "groups = []  # child or adult\n",
    "for func_file, confound_file, phenotypic in tqdm(zip(\n",
    "    development_dataset.func,\n",
    "    development_dataset.confounds,\n",
    "    development_dataset.phenotypic,\n",
    ")):\n",
    "    time_series = masker.transform(func_file, confounds=confound_file)\n",
    "    pooled_subjects.append(time_series)\n",
    "    groups.append(phenotypic[\"Child_Adult\"])"
   ]
  },
  {
   "cell_type": "code",
   "execution_count": 73,
   "metadata": {},
   "outputs": [],
   "source": [
    "X = np.stack(pooled_subjects)\n",
    "np.save(\"Data/X\", X)"
   ]
  },
  {
   "cell_type": "code",
   "execution_count": 85,
   "metadata": {},
   "outputs": [],
   "source": [
    "labels = np.array([0 if g == 'adult' else 1 for g in groups])\n",
    "np.save(\"Data/y\", labels)"
   ]
  }
 ],
 "metadata": {
  "kernelspec": {
   "display_name": "LOGML",
   "language": "python",
   "name": "python3"
  },
  "language_info": {
   "codemirror_mode": {
    "name": "ipython",
    "version": 3
   },
   "file_extension": ".py",
   "mimetype": "text/x-python",
   "name": "python",
   "nbconvert_exporter": "python",
   "pygments_lexer": "ipython3",
   "version": "3.12.4"
  }
 },
 "nbformat": 4,
 "nbformat_minor": 2
}
